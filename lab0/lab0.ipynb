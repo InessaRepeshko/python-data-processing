{
 "cells": [
  {
   "cell_type": "code",
   "execution_count": 1,
   "id": "45a4102c-ddd7-4926-ab2a-ca983abe0106",
   "metadata": {},
   "outputs": [
    {
     "data": {
      "text/plain": [
       "'Variant #6'"
      ]
     },
     "execution_count": 1,
     "metadata": {},
     "output_type": "execute_result"
    }
   ],
   "source": [
    "N = ord(\"A\") % 10 + 1\n",
    "var = f\"Variant #{N}\"\n",
    "var"
   ]
  },
  {
   "cell_type": "code",
   "execution_count": 2,
   "id": "baaf953c-613c-4e58-a9d6-09aeefb6d392",
   "metadata": {},
   "outputs": [
    {
     "data": {
      "text/html": [
       "<!DOCTYPE html>\n",
       "<html lang=\"en\">\n",
       "<head>\n",
       "    <meta charset=\"UTF-8\">\n",
       "    <meta name=\"viewport\" content=\"width=device-width, initial-scale=1.0\">\n",
       "    <link href=\"https://cdn.jsdelivr.net/npm/bootstrap@5.3.0/dist/css/bootstrap.min.css\" rel=\"stylesheet\">\n",
       "    <script src=\"https://cdn.jsdelivr.net/npm/bootstrap@5.3.0/dist/js/bootstrap.bundle.min.js\"></script>\n",
       "</head>\n",
       "<body>\n",
       "\n",
       "<h1 class=\"text-body-secondary fs-1 fw-bold mx-5 my-5\">\n",
       "    Republic of\n",
       "    <span class=\"text-danger\">Dj</span><span class=\"text-success\">ibo</span><span class=\"text-info\">uti</span>\n",
       "    <a class=\"link-success link-offset-2 link-underline-opacity-25 link-underline-opacity-100-hover\"\n",
       "       href=\"https://en.wikipedia.org/wiki/Djibouti\">🔗</a>\n",
       "</h1>\n",
       "\n",
       "<div class=\"d-flex flex-column justify-content-start align-items-center my-5 mx-5 border border-4 border-light-subtle\">\n",
       "    <div class=\"mx-5 my-5\">\n",
       "        <a class=\"link-success link-offset-2 link-underline-opacity-25 link-underline-opacity-100-hover fw-semibold\"\n",
       "           href=\"https://en.wikipedia.org/wiki/Flag_of_Djibouti\" target=\"_blank\">\n",
       "            <div class=\"border border-light-subtle\">\n",
       "                <svg xmlns=\"http://www.w3.org/2000/svg\" width=\"1039.23\" height=\"600\">\n",
       "                    <path fill=\"#6ab2e7\" d=\"M0 0h1039.23048v600H0z\"/>\n",
       "                    <path fill=\"#12ad2b\" d=\"M0 300h1039.23048v300H0z\"/>\n",
       "                    <path fill=\"#fff\" d=\"M0 0v600l259.808-150 259.807-150-259.807-150z\"/>\n",
       "                    <path fill=\"#d7141a\"\n",
       "                          d=\"M198.86 225l18.616 57.295h60.243l-48.738 35.41L247.598 375l-48.738-35.41L150.122 375l18.616-57.295L120 282.295h60.243z\"/>\n",
       "                </svg>\n",
       "            </div>\n",
       "            <p class=\"container text-center fs-3\">Flag</p>\n",
       "        </a>\n",
       "    </div>\n",
       "\n",
       "    <div class=\"mx-5 mb-5\">\n",
       "        <a class=\"link-success link-offset-2 link-underline-opacity-25 link-underline-opacity-100-hover fw-semibold\"\n",
       "           href=\"https://en.wikipedia.org/wiki/Emblem_of_Djibouti\" target=\"_blank\">\n",
       "            <img src=\"https://upload.wikimedia.org/wikipedia/commons/8/8d/Emblem_of_Djibouti.svg\"\n",
       "                 width=\"450\" height=\"600\" alt=\"Emblem of Djibouti\">\n",
       "            <p class=\"container text-center fs-3\">Emblem of Djibouti</p>\n",
       "        </a>\n",
       "    </div>\n",
       "</div>\n",
       "</body>\n",
       "</html>\n"
      ],
      "text/plain": [
       "<IPython.core.display.HTML object>"
      ]
     },
     "metadata": {},
     "output_type": "display_data"
    }
   ],
   "source": [
    "%%HTML\n",
    "<!DOCTYPE html>\n",
    "<html lang=\"en\">\n",
    "<head>\n",
    "    <meta charset=\"UTF-8\">\n",
    "    <meta name=\"viewport\" content=\"width=device-width, initial-scale=1.0\">\n",
    "    <link href=\"https://cdn.jsdelivr.net/npm/bootstrap@5.3.0/dist/css/bootstrap.min.css\" rel=\"stylesheet\">\n",
    "    <script src=\"https://cdn.jsdelivr.net/npm/bootstrap@5.3.0/dist/js/bootstrap.bundle.min.js\"></script>\n",
    "</head>\n",
    "<body>\n",
    "\n",
    "<h1 class=\"text-body-secondary fs-1 fw-bold mx-5 my-5\">\n",
    "    Republic of\n",
    "    <span class=\"text-danger\">Dj</span><span class=\"text-success\">ibo</span><span class=\"text-info\">uti</span>\n",
    "    <a class=\"link-success link-offset-2 link-underline-opacity-25 link-underline-opacity-100-hover\"\n",
    "       href=\"https://en.wikipedia.org/wiki/Djibouti\">🔗</a>\n",
    "</h1>\n",
    "\n",
    "<div class=\"d-flex flex-column justify-content-start align-items-center my-5 mx-5 border border-4 border-light-subtle\">\n",
    "    <div class=\"mx-5 my-5\">\n",
    "        <a class=\"link-success link-offset-2 link-underline-opacity-25 link-underline-opacity-100-hover fw-semibold\"\n",
    "           href=\"https://en.wikipedia.org/wiki/Flag_of_Djibouti\" target=\"_blank\">\n",
    "            <div class=\"border border-light-subtle\">\n",
    "                <svg xmlns=\"http://www.w3.org/2000/svg\" width=\"1039.23\" height=\"600\">\n",
    "                    <path fill=\"#6ab2e7\" d=\"M0 0h1039.23048v600H0z\"/>\n",
    "                    <path fill=\"#12ad2b\" d=\"M0 300h1039.23048v300H0z\"/>\n",
    "                    <path fill=\"#fff\" d=\"M0 0v600l259.808-150 259.807-150-259.807-150z\"/>\n",
    "                    <path fill=\"#d7141a\"\n",
    "                          d=\"M198.86 225l18.616 57.295h60.243l-48.738 35.41L247.598 375l-48.738-35.41L150.122 375l18.616-57.295L120 282.295h60.243z\"/>\n",
    "                </svg>\n",
    "            </div>\n",
    "            <p class=\"container text-center fs-3\">Flag</p>\n",
    "        </a>\n",
    "    </div>\n",
    "\n",
    "    <div class=\"mx-5 mb-5\">\n",
    "        <a class=\"link-success link-offset-2 link-underline-opacity-25 link-underline-opacity-100-hover fw-semibold\"\n",
    "           href=\"https://en.wikipedia.org/wiki/Emblem_of_Djibouti\" target=\"_blank\">\n",
    "            <img src=\"https://upload.wikimedia.org/wikipedia/commons/8/8d/Emblem_of_Djibouti.svg\"\n",
    "                 width=\"450\" height=\"600\" alt=\"Emblem of Djibouti\">\n",
    "            <p class=\"container text-center fs-3\">Emblem of Djibouti</p>\n",
    "        </a>\n",
    "    </div>\n",
    "</div>\n",
    "</body>\n",
    "</html>"
   ]
  },
  {
   "cell_type": "markdown",
   "id": "0a34a265-9bfe-498c-86fa-bf5b3379c73a",
   "metadata": {},
   "source": [
    "# Contents\n",
    "\n",
    "1. [Djibouti](#djibouti)\n",
    "2. [Name and etymology](#name-and-etymology)\n",
    "3. [Politics](#politics)\n",
    "    1. [Administrative divisions](#administrative-divisions)\n",
    "        1. [Regions of Djibouti](#regions-of-djibouti)\n",
    "            1. [A map of Djibouti's regions](#a-map-of-djiboutis-regions)\n",
    "4. [Geography](#geography)\n",
    "    1. [Location and habitat](#location-and-habitat)\n",
    "        1. [Landscapes of Djibouti](#landscapes-of-djibouti)\n",
    "            1. [Lake Assal](#lake-assal)\n",
    "            2. [Traditional houses on the Mabla Mountains](#traditional-houses-on-the-mabla-mountains)\n",
    "            3. [Lake Abbe](#lake-abbe)\n",
    "            4. [The mountains near Dasbiyo](#the-mountains-near-dasbiyo)\n",
    "            5. [Beach south of Djibouti City, overlooking the Gulf of Aden](#beach-south-of-djibouti-city-overlooking-the-gulf-of-aden)\n",
    "5. [Economy](#economy)\n",
    "    1. [GDP](#gdp)\n",
    "        1. [Djibouti's gross domestic product](#djiboutis-gross-domestic-product)\n",
    "6. [Demographics](#demographics)\n",
    "    1. [Languages](#languages)\n",
    "        1. [Languages of Djibouti](#languages-of-djibouti)\n",
    "\n",
    "# Djibouti\n",
    "\n",
    "---\n",
    "\n",
    "Djibouti, officially the Republic of Djibouti, is a country in the Horn of Africa, bordered by Somalia to the\n",
    "south, Ethiopia to the southwest, Eritrea in the north, and the Red Sea and the Gulf of Aden to the east. The country\n",
    "has an area of 23,200 km2 (8,958 sq mi).\n",
    "\n",
    "In antiquity, the territory, together with Ethiopia, Eritrea and Somaliland, was part of the Land of Punt. Nearby Zeila,\n",
    "now in Somaliland, was the seat of the medieval Adal and Ifat Sultanates. In the late 19th century, the colony of French\n",
    "Somaliland was established after the ruling Dir Somali sultans signed treaties with the French, and its\n",
    "railroad to Dire Dawa (and later Addis Ababa) allowed it to quickly supersede Zeila as the port for southern Ethiopia\n",
    "and the Ogaden. It was renamed the French Territory of the Afars and the Issas in 1967. A decade later, the\n",
    "Djiboutian people voted for independence. This officially marked the establishment of the Republic of Djibouti, named\n",
    "after its capital city. The new state joined the United Nations in its first year. In the early 1990s, tensions\n",
    "over government representation led to armed conflict, which ended in a power-sharing agreement in 2000 between the\n",
    "ruling party and the opposition.\n",
    "\n",
    "Djibouti is a multi-ethnic nation with a population of over 920,000 (the smallest in mainland Africa). French and Arabic\n",
    "are its two official languages, Afar and Somali are national languages. About 94% of Djiboutians adhere to Islam,\n",
    "which is the official religion and has been predominant in the region for more than 1,000 years. The Somalis and Afar\n",
    "make up the two largest ethnic groups, with the former comprising the majority of the population. Both speak a language\n",
    "of the Cushitic branch of the Afroasiatic languages.\n",
    "\n",
    "Djibouti is near some of the world's busiest shipping lanes, controlling access to the Red Sea and Indian Ocean. It\n",
    "serves as a key refuelling and transshipment center, and the principal maritime port for imports from and exports to\n",
    "neighboring Ethiopia. A burgeoning commercial hub, the nation is the site of various foreign military bases. The\n",
    "Intergovernmental Authority on Development (IGAD) regional body also has its headquarters in Djibouti City.\n",
    "\n",
    "# Name and etymology\n",
    "\n",
    "---\n",
    "\n",
    "*Djibouti* is officially known as the *Republic of Djibouti*. In local languages it is known as *Yibuuti* (in Afar) and\n",
    "Jabuuti (in Somali).\n",
    "\n",
    "The country is named for its capital, the City of Djibouti. The etymology of the name is disputed. There are several\n",
    "theories and legends about its origin, varying based on ethnicity. One theory derives it from the Afar word _gabouti_,\n",
    "meaning \"`plate`\", possibly referring to the area's geographical features. Another connects it to _gabood_, meaning \"\n",
    "upland/plateau\". Djibouti could also mean \"Land of _Tehuti_\" or \"Land of Thoth (Egyptian: `Djehuti/ Djehuty`)\", after\n",
    "the Egyptian moon god.\n",
    "\n",
    "From 1862 until 1894, the land to the north of the Gulf of Tadjoura was called \"`Obock`\". Under French administration,\n",
    "from 1883 to 1967 the area was known as French Somaliland (French: _Côte française des Somalis_), and from 1967 to 1977\n",
    "as\n",
    "the French Territory of the Afars and the Issas (French: _Territoire français des Afars et des Issas_).\n",
    "\n",
    "# Politics\n",
    "\n",
    "___\n",
    "\n",
    "## Administrative divisions\n",
    "\n",
    "> Main article: [Districts of Djibouti](https://en.wikipedia.org/wiki/Districts_of_Djibouti)\n",
    "\n",
    "Djibouti is partitioned into six administrative regions, with Djibouti city representing one of the official regions. It\n",
    "is further subdivided into twenty districts.\n",
    "\n",
    "### Regions of Djibouti\n",
    "\n",
    "### A map of Djibouti's regions\n",
    "\n",
    "<div style=\"border: 1px solid darkgray; background-color: #f2f2f2; padding: 5px;\">\n",
    "    <img src=\"https://upload.wikimedia.org/wikipedia/commons/a/a7/The_Regions_of_Djibouti.png\" \n",
    "            width=\"600\" height=\"600\" alt=\"Emblem of Djibouti\">\n",
    "    <p style=\"font-family: 'Times New Roman'; font-size: 16px; padding: 0 5px\">A map of Djibouti's regions</p>\n",
    "</div>\n",
    "\n",
    "| Region                                                        | Area (km<sup>2</sup>) | Population <br> 2009 census | Population <br> 2018 estimate | Capital                                                      |\n",
    "|---------------------------------------------------------------|-----------------------|-----------------------------|-------------------------------|--------------------------------------------------------------|\n",
    "| [Ali Sabieh](https://en.wikipedia.org/wiki/Ali_Sabieh_Region) | 2,200                 | 86,949                      | 96,500                        | [Ali Sabieh](https://en.wikipedia.org/wiki/Ali_Sabieh)       |\n",
    "| [Arta](https://en.wikipedia.org/wiki/Arta_Region)             | 1,800                 | 42,380                      | 72,200                        | [Arta](https://en.wikipedia.org/wiki/Arta,_Djibouti)         |\n",
    "| [Dikhil](https://en.wikipedia.org/wiki/Dikhil_Region)         | 7,200                 | 88,948                      | 105,300                       | [Dikhil](https://en.wikipedia.org/wiki/Dikhil)               |\n",
    "| [Djibouti](https://en.wikipedia.org/wiki/Djibouti_Region)     | 200                   | 475,322                     | 603,900                       | [Djibouti City](https://en.wikipedia.org/wiki/Djibouti_City) |\n",
    "| [Obock](https://en.wikipedia.org/wiki/Obock_Region)           | 4,700                 | 37,856                      | 50,100                        | [Obock](https://en.wikipedia.org/wiki/Obock)                 |\n",
    "| [Tadjourah](https://en.wikipedia.org/wiki/Tadjourah_Region)   | 7,100                 | 86,704                      | 121,000                       | [Tadjoura](https://en.wikipedia.org/wiki/Tadjoura)           |\n",
    "\n",
    "# Geography\n",
    "\n",
    "## Location and habitat\n",
    "\n",
    "<div style=\"border: 2px solid green; padding: 5px;\">\n",
    "    Djibouti is in the Horn of Africa, on the Gulf of Aden and the Bab-el-Mandeb, at the southern entrance to the Red Sea.\n",
    "    It lies between latitudes 11° and 14°N and longitudes 41° and 44°E, at the northernmost point of the Great Rift Valley.\n",
    "    It is in Djibouti that the rift between the African Plate and the Somali Plate meets the Arabian Plate, forming a\n",
    "    geologic tripoint. The tectonic interaction at this tripoint has created the lowest elevation of any place in Africa\n",
    "    at Lake Assal, and the second-lowest depression on dry land anywhere on earth (surpassed only by the depression along\n",
    "    the border of Jordan and Israel).\n",
    "</div>\n",
    "\n",
    "The country's coastline stretches 314 kilometres (195 miles), with terrain consisting mainly of plateau, plains and\n",
    "highlands. Djibouti has a total area of 23,200 square kilometres (8,958 sq mi). Its borders extend 575 km (357 mi), 125\n",
    "km (78 mi) of which are shared with Eritrea, 390 km (242 mi) with Ethiopia, and 60 km (37 mi) with Somaliland.\n",
    "Djibouti is the southernmost country on the Arabian Plate.\n",
    "\n",
    "Djibouti has eight mountain ranges with peaks of over 1,000 metres (3,300 feet). The Mousa Ali range is considered\n",
    "the country's highest mountain range, with the tallest peak on the border with Ethiopia and Eritrea. It has an elevation\n",
    "of 2,028 metres (6,654 feet). The Grand Bara desert covers parts of southern Djibouti in the Arta, Ali Sabieh and\n",
    "Dikhil regions. The majority of it sits at a relatively low elevation, below 1,700 feet (520 metres).\n",
    "\n",
    "Extreme geographic points include: to the north, Ras Doumera and the point at which the border with Eritrea enters the\n",
    "Red Sea in the Obock Region; to the east, a section of the Red Sea coast north of Ras Bir; to the south, a location on\n",
    "the border with Ethiopia west of the town of As Ela; and to the west, a location on the frontier with Ethiopia\n",
    "immediately east of the Ethiopian town of Afambo.\n",
    "\n",
    "Most of Djibouti is part of the Ethiopian xeric grasslands and shrublands ecoregion. The exception is an eastern strip\n",
    "along the Red Sea coast, which is part of the Eritrean coastal desert.\n",
    "\n",
    "### Landscapes of Djibouti\n",
    "\n",
    "#### Lake Assal\n",
    "\n",
    "![Lake Assal][Lake_Assal]\n",
    "\n",
    "#### Traditional houses on the Mabla Mountains\n",
    "\n",
    "![Mabla Mountains][Mabla_Mountains]\n",
    "\n",
    "#### Lake Abbe\n",
    "\n",
    "![Lake Abbe][Lake_Abbe]\n",
    "\n",
    "#### The mountains near Dasbiyo\n",
    "\n",
    "![Dasbiyo][Dasbiyo]\n",
    "\n",
    "#### Beach south of Djibouti City, overlooking the Gulf of Aden\n",
    "\n",
    "![Djibouti City][Djibouti_City]\n",
    "\n",
    "[Lake_Assal]: https://upload.wikimedia.org/wikipedia/commons/5/5c/Djib_003.JPG\n",
    "\n",
    "[Mabla_Mountains]: https://upload.wikimedia.org/wikipedia/commons/3/3c/Traditional_houses_on_the_Mabla_Mountains.jpg\n",
    "\n",
    "[Lake_Abbe]: https://upload.wikimedia.org/wikipedia/commons/e/ee/Lac_Abbe-02.JPG\n",
    "\n",
    "[Dasbiyo]: https://upload.wikimedia.org/wikipedia/commons/d/d4/The_mountains_near_Dasbiyo.png\n",
    "\n",
    "[Djibouti_City]: https://upload.wikimedia.org/wikipedia/commons/7/76/South_Djibouti_Beach.png\n",
    "\n",
    "# Economy\n",
    "\n",
    "---\n",
    "\n",
    "Djibouti's economy is largely concentrated in the service sector. Commercial activities revolve around the country's\n",
    "free trade policies and strategic location as a Red Sea transit point. Due to limited rainfall, vegetables and fruits\n",
    "are the principal production crops, and other food items require importation. The GDP (purchasing power parity) in 2013\n",
    "was estimated at $2.505 billion, with a real growth rate of 5% annually. Per capita income is around $2,874 (PPP). The\n",
    "services sector constituted around 79.7% of the GDP, followed by industry at 17.3%, and agriculture at 3%.\n",
    "\n",
    "As of 2013, the container terminal at the Port of Djibouti handles the bulk of the nation's trade. About 70% of the\n",
    "seaport's activity consists of imports to and exports from neighboring Ethiopia, which depends on the harbour as its\n",
    "main maritime outlet. As of 2018, 95% of Ethiopian transit cargo was handled by the Port of Djibouti. The port\n",
    "also serves as an international refueling center and transshipment hub. In 2012, the Djiboutian government in\n",
    "collaboration with DP World started construction of the Doraleh Container Terminal, a third major seaport intended\n",
    "to further develop the national transit capacity. A $396 million project, it has the capacity to accommodate 1.5\n",
    "million twenty foot container units annually.\n",
    "\n",
    "Djibouti was ranked the 177th safest investment destination in the world in the March 2011 Euromoney Country Risk\n",
    "rankings. To improve the environment for direct foreign investment, the Djibouti authorities in conjunction with\n",
    "various non-profit organizations have launched a number of development projects aimed at highlighting the country's\n",
    "commercial potential. The government has also introduced new private sector policies targeting high interest and\n",
    "inflation rates, including relaxing the tax burden on enterprises and allowing exemptions on consumption tax.\n",
    "Additionally, efforts have been made to lower the estimated 60% urban unemployment rate by creating more job\n",
    "opportunities through investment in diversified sectors. Funds have especially gone toward building telecommunications\n",
    "infrastructure and increasing disposable income by supporting small businesses. Owing to its growth potential, the\n",
    "fishing and agro-processing sector, which represents around 15% of GDP, has also enjoyed rising investment since 2008.\n",
    "\n",
    "Djibouti's gross domestic product expanded by an average of more than 6 percent per year, from US$341 million in 1985 to\n",
    "US$1.5 billion in 2015. The Djiboutian franc is the currency of Djibouti. It is issued by the Central Bank of Djibouti,\n",
    "the country's monetary authority. Since the Djiboutian franc is pegged to the U.S. dollar, it is generally stable and\n",
    "inflation is not a problem. This has contributed to the growing interest in investment in the country.\n",
    "\n",
    "As of 2010, 10 conventional and Islamic banks operate in Djibouti. Most arrived within the past few years, including the\n",
    "Somali money transfer company Dahabshiil and BDCD, a subsidiary of Swiss Financial Investments. The banking system had\n",
    "previously been monopolized by two institutions: the Indo-Suez Bank and the Commercial and Industrial Bank (BCIMR).\n",
    "To assure a robust credit and deposit sector, the government requires commercial banks to maintain 30% of shares in the\n",
    "financial institution; a minimum of 300 million Djiboutian francs in up-front capital is mandatory\n",
    "for international banks. Lending has likewise been encouraged by the creation of a guarantee fund, which allows banks to\n",
    "issue loans to eligible small- and medium-sized businesses without first requiring a large deposit or other\n",
    "collateral.\n",
    "\n",
    "Saudi investors are also reportedly exploring the possibility of linking the Horn of Africa with the Arabian Peninsula\n",
    "via a 28.5-kilometre-long (17.7 mi) oversea bridge through Djibouti, referred to as the Bridge of the Horns. The\n",
    "investor Tarek bin Laden has been linked to the project. In June 2010, Phase I of the project was delayed.\n",
    "\n",
    "## GDP\n",
    "\n",
    "Djibouti's gross domestic product expanded by an average of more than 6 percent per year, from *\n",
    "*_US$341 million in 1985 to\n",
    "US$3.2 billion in 2021._**\n",
    "\n",
    "### Djibouti's gross domestic product"
   ]
  },
  {
   "cell_type": "code",
   "execution_count": 3,
   "id": "f9bc2f2f-2c4b-4782-8f45-c63fb1fb99fe",
   "metadata": {},
   "outputs": [
    {
     "data": {
      "image/png": "[encoded data removed]",
      "text/plain": [
       "<Figure size 1000x600 with 1 Axes>"
      ]
     },
     "metadata": {},
     "output_type": "display_data"
    }
   ],
   "source": [
    "%matplotlib inline\n",
    "\n",
    "import matplotlib.pyplot as plt\n",
    "\n",
    "# Data by year and GDP (USD billion)\n",
    "years = [1985, 1990, 1995, 2000, 2005, 2010, 2015, 2016, 2017, 2018, 2019, 2020, 2021]\n",
    "gdp = [0.341, 0.475, 0.505, 0.550, 1.000, 1.500, 2.400, 2.600, 2.800, 2.900, 3.100, 3.200,\n",
    "       3.400] # GDP in billions of US dollars\n",
    "\n",
    "# Build Line Chart\n",
    "plt.figure(figsize=(10, 6))                                 # Set chart size\n",
    "plt.plot(years, gdp, marker='o', linestyle='-', color='b')  # Display a line graph with markers\n",
    "\n",
    "# Add labels for GDP values\n",
    "for i in range(len(gdp)):\n",
    "    plt.annotate(f'{gdp[i]:.3f}', (years[i], gdp[i]), textcoords=\"offset points\", xytext=(0, 5), ha='center')\n",
    "\n",
    "# Add a title and captions\n",
    "plt.title(\"Djibouti's Gross Domestic Product\", fontsize=16)\n",
    "plt.xlabel('Year', fontsize=12)\n",
    "plt.ylabel('GDP in Billion USD', fontsize=12)\n",
    "\n",
    "# Display a graphical grid for better readability\n",
    "plt.grid(True)\n",
    "\n",
    "plt.show()\n"
   ]
  },
  {
   "cell_type": "markdown",
   "id": "b015665d-5d90-46ce-b74b-b2232a822f93",
   "metadata": {},
   "source": [
    "# Demographics\n",
    "\n",
    "## Languages\n",
    "\n",
    "---\n",
    "\n",
    "> Main article: [Languages of Djibouti](https://en.wikipedia.org/wiki/Languages_of_Djibouti)\n",
    "\n",
    "Djibouti is a multilingual nation. The majority of local residents speak Somali (524,000 speakers) and Afar (306,000\n",
    "speakers) as first languages. They are the mother tongues of the Somali and Afar ethnic groups, respectively. Both\n",
    "languages belong to the larger Afroasiatic Cushitic family. Northern Somali is the main dialect spoken in the country\n",
    "and in neighbouring Somaliland, in contrast to Benadiri Somali which is the main dialect spoken in Somalia. There\n",
    "are two official languages in Djibouti: Arabic and French.\n",
    "\n",
    "Arabic is of religious importance. In formal settings, it consists of Modern Standard Arabic. Colloquially, about 59,000\n",
    "local residents speak the Ta'izzi-Adeni Arabic dialect, also known as Djibouti Arabic. French serves as a statutory\n",
    "national language. It was inherited from the colonial period, and is the primary language of instruction. Around 17,000\n",
    "Djiboutians speak it as a first language. Immigrant languages include Omani Arabic (38,900 speakers), Amharic (1,400\n",
    "speakers), and Greek (1,000 speakers).\n",
    "\n",
    "##### Languages of Djibouti"
   ]
  },
  {
   "cell_type": "code",
   "execution_count": 4,
   "id": "b2f6eabf-9b10-45d1-9a70-aea67f5bcd6d",
   "metadata": {},
   "outputs": [
    {
     "data": {
      "image/png": "[encoded data removed]",
      "text/plain": [
       "<Figure size 500x500 with 1 Axes>"
      ]
     },
     "metadata": {},
     "output_type": "display_data"
    }
   ],
   "source": [
    "%matplotlib inline\n",
    "\n",
    "import matplotlib.pyplot as plt\n",
    "\n",
    "# Graph data\n",
    "labels = ['Somali', 'Afar', 'Arabic', 'Other']          # Languages\n",
    "sizes = [60, 35, 2, 3]                                  # Percentage of language use prevalence\n",
    "colors = ['#0000ff', '#008000', '#ff0000', '#ffffff']\n",
    "\n",
    "# Build Pie chart\n",
    "plt.figure(figsize=(5, 5))                              # Set chart size\n",
    "plt.pie(sizes, labels=labels, colors=colors, autopct='%1.1f%%', startangle=180)\n",
    "\n",
    "plt.title('Languages of Djibouti')\n",
    "\n",
    "plt.show()\n"
   ]
  },
  {
   "cell_type": "code",
   "execution_count": 5,
   "id": "d4fb57d1-63e7-4c26-b25f-3298e947191e",
   "metadata": {},
   "outputs": [],
   "source": [
    "import re\n",
    "\n",
    "# Define ANSI escape codes for colored text in the console output\n",
    "COLOR_RED = \"\\033[31m\"  # Red color for error messages\n",
    "COLOR_GREEN = \"\\033[32m\"  # Green color for success messages\n",
    "COLOR_END = \"\\033[0m\"  # Resets the text color to default\n",
    "\n",
    "\n",
    "def bubble_sorting():\n",
    "    \"\"\"\n",
    "    Performs bubble sort on a list of space-separated integers provided by the user.\n",
    "\n",
    "    It takes the user input, validates it to ensure the input contains only space-separated integers,\n",
    "    and then sorts the integers using the bubble sort algorithm. It also counts and prints the number\n",
    "    of swaps performed during sorting.\n",
    "\n",
    "    Returns:\n",
    "        tuple: A sorted list of integers and the swap count if sorting was successful.\n",
    "        Prints error messages and returns None in case of invalid input or other errors.\n",
    "    \"\"\"\n",
    "    try:\n",
    "        user_input = input().strip()\n",
    "\n",
    "        if not re.match(r'^([-+]?\\d+\\s*)+$', user_input):\n",
    "            raise ValueError(\"Values must be space-separated integers\")\n",
    "\n",
    "        numbers = [int(x) for x in user_input.split()]\n",
    "        swap_count = 0\n",
    "\n",
    "        for i in range(0, len(numbers)):\n",
    "            for j in range(0, len(numbers) - i - 1):\n",
    "                if numbers[j] > numbers[j + 1]:\n",
    "                    numbers[j], numbers[j + 1] = numbers[j + 1], numbers[j]\n",
    "                    swap_count += 1\n",
    "\n",
    "        print(f\"{COLOR_GREEN}{swap_count} swaps were performed.{COLOR_END}\")\n",
    "\n",
    "        return numbers, swap_count\n",
    "\n",
    "    except ValueError as val_err:\n",
    "        print(f\"{COLOR_RED}Value error: {val_err}. Try again!{COLOR_END}\")\n",
    "    except Exception as e:\n",
    "        print(f\"{COLOR_RED}Error: {e}.{COLOR_END}\")\n",
    "\n",
    "\n",
    "# A list of test cases for the bubble_sorting function.\n",
    "# Each test case contains:\n",
    "#  - Whether the test is expected to pass or fail (True/False)\n",
    "#  - A summary of the test case\n",
    "#  - Test data (input string) for the test case\n",
    "#  - Expected output as a sorted list and swap count, or error indication for invalid inputs\n",
    "TEST_CASES = [\n",
    "    [True, \"Enter unsorted unsigned unique integers\", \" 10 6 7 8 99 3 2  1 5   \", [[1, 2, 3, 5, 6, 7, 8, 10, 99], 26]],\n",
    "    [True, \"Enter unsorted unsigned duplicate integers\", \" 8 8    7 7 6 6 3 1 2\", [[1, 2, 3, 6, 6, 7, 7, 8, 8], 32]],\n",
    "    [True, \"Enter unsorted signed unique integers\", \"-100 +50 +0  -400 +500 +1000 -2 \",\n",
    "     [[-400, -100, -2, 0, 50, 500, 1000], 8]],\n",
    "    [True, \"Enter sorted unsigned unique integers\", \"1 2\", [[1, 2], 0]],\n",
    "    [True, \"Enter sorted unsigned one integer\", \"10\", [[10], 0]],\n",
    "    [True, \"Enter unsorted unsigned unique integers with leading zeroes\", \"02 09 04 0100 01\", [[1, 2, 4, 9, 100], 5]],\n",
    "    [False, \"Enter unsorted unsigned unique floats\", \"9.9 0.1 3.0\", [[], -1]],\n",
    "    [False, \"Enter empty string\", \"\", [[], -1]],\n",
    "    [False, \"Enter alphabetic values\", \"AbCd 09\", [[], -1]],\n",
    "    [False, \"Enter special characters\", \"% 56 7 8 !@#$%^&*()_+\\\"\", [[], -1]]\n",
    "]\n",
    "\n",
    "\n",
    "def test(index: int):\n",
    "    \"\"\"\n",
    "    Runs a single test case for the bubble_sorting function.\n",
    "\n",
    "    Args:\n",
    "        i (int): The index of the test case to run.\n",
    "\n",
    "    The function prints the test description, test data, expected result, and actual result.\n",
    "    It uses colored output to distinguish between test sections and results.\n",
    "    \"\"\"\n",
    "    if 0 <= index < len(TEST_CASES):\n",
    "        test_case = TEST_CASES[index]\n",
    "    else:\n",
    "        raise ValueError(\"Invalid test case index\")\n",
    "\n",
    "    is_pass = test_case[0]\n",
    "    summary = f\"\\033[35mTest {index}: {test_case[1]}\\033[0m\"\n",
    "    test_data = f\"Test data:\\n\\033[33m{test_case[2]}\\033[0m\"\n",
    "\n",
    "    expected_result = test_case[3]\n",
    "    swaps = expected_result[1]\n",
    "    numbers = expected_result[0] if swaps != -1 else \"\"\n",
    "    swaps_descr = f\"{swaps} swaps were performed.\"\n",
    "    error_descr = \"Value error: Values must be space-separated integers. Try again!\"\n",
    "\n",
    "    expected_result_descr = f\"Expected result: \\n\"\n",
    "\n",
    "    if is_pass:\n",
    "        expected_result_descr += f\"{numbers}\\n{COLOR_GREEN}{swaps_descr}{COLOR_END}\"\n",
    "    else:\n",
    "        expected_result_descr += f\"{COLOR_RED}{error_descr}{COLOR_END}\"\n",
    "\n",
    "    actual_result = \"Actual result:\"\n",
    "\n",
    "    print(summary)\n",
    "    print(test_data)\n",
    "    print(expected_result_descr)\n",
    "    print(actual_result)\n",
    "    bubble_sorting()\n",
    "\n",
    "\n",
    "def run_tests():\n",
    "    \"\"\"\n",
    "    Runs all the test cases in TEST_CASES list.\n",
    "\n",
    "    The function iterates over each test case and calls the `test()` function to\n",
    "    run and print the result of each test. The results include both expected and actual output.\n",
    "    \"\"\"\n",
    "    for index in range(len(TEST_CASES)):\n",
    "        test(index)\n"
   ]
  },
  {
   "cell_type": "code",
   "execution_count": 6,
   "id": "ffb17103-318a-40a0-9633-1f51bd34b850",
   "metadata": {},
   "outputs": [
    {
     "name": "stdout",
     "output_type": "stream",
     "text": [
      "\u001b[35mTest 0: Enter unsorted unsigned unique integers\u001b[0m\n",
      "Test data:\n",
      "\u001b[33m 10 6 7 8 99 3 2  1 5   \u001b[0m\n",
      "Expected result: \n",
      "[1, 2, 3, 5, 6, 7, 8, 10, 99]\n",
      "\u001b[32m26 swaps were performed.\u001b[0m\n",
      "Actual result:\n"
     ]
    },
    {
     "name": "stdin",
     "output_type": "stream",
     "text": [
      "  10 6 7 8 99 3 2  1 5   \n"
     ]
    },
    {
     "name": "stdout",
     "output_type": "stream",
     "text": [
      "\u001b[32m26 swaps were performed.\u001b[0m\n"
     ]
    }
   ],
   "source": [
    "test(0)"
   ]
  },
  {
   "cell_type": "code",
   "execution_count": 7,
   "id": "5dec946f-5424-46f6-9122-4498fd5b174f",
   "metadata": {},
   "outputs": [
    {
     "name": "stdout",
     "output_type": "stream",
     "text": [
      "\u001b[35mTest 1: Enter unsorted unsigned duplicate integers\u001b[0m\n",
      "Test data:\n",
      "\u001b[33m 8 8    7 7 6 6 3 1 2\u001b[0m\n",
      "Expected result: \n",
      "[1, 2, 3, 6, 6, 7, 7, 8, 8]\n",
      "\u001b[32m32 swaps were performed.\u001b[0m\n",
      "Actual result:\n"
     ]
    },
    {
     "name": "stdin",
     "output_type": "stream",
     "text": [
      "  8 8    7 7 6 6 3 1 2\n"
     ]
    },
    {
     "name": "stdout",
     "output_type": "stream",
     "text": [
      "\u001b[32m32 swaps were performed.\u001b[0m\n"
     ]
    }
   ],
   "source": [
    "test(1)"
   ]
  },
  {
   "cell_type": "code",
   "execution_count": 8,
   "id": "4078edd3-fc2a-429a-8dc9-a1b60105baa1",
   "metadata": {},
   "outputs": [
    {
     "name": "stdout",
     "output_type": "stream",
     "text": [
      "\u001b[35mTest 2: Enter unsorted signed unique integers\u001b[0m\n",
      "Test data:\n",
      "\u001b[33m-100 +50 +0  -400 +500 +1000 -2 \u001b[0m\n",
      "Expected result: \n",
      "[-400, -100, -2, 0, 50, 500, 1000]\n",
      "\u001b[32m8 swaps were performed.\u001b[0m\n",
      "Actual result:\n"
     ]
    },
    {
     "name": "stdin",
     "output_type": "stream",
     "text": [
      " -100 +50 +0  -400 +500 +1000 -2 \n"
     ]
    },
    {
     "name": "stdout",
     "output_type": "stream",
     "text": [
      "\u001b[32m8 swaps were performed.\u001b[0m\n"
     ]
    }
   ],
   "source": [
    "test(2)"
   ]
  },
  {
   "cell_type": "code",
   "execution_count": 9,
   "id": "2df12d8c-258a-4f21-bf09-701e1ed9d292",
   "metadata": {},
   "outputs": [
    {
     "name": "stdout",
     "output_type": "stream",
     "text": [
      "\u001b[35mTest 3: Enter sorted unsigned unique integers\u001b[0m\n",
      "Test data:\n",
      "\u001b[33m1 2\u001b[0m\n",
      "Expected result: \n",
      "[1, 2]\n",
      "\u001b[32m0 swaps were performed.\u001b[0m\n",
      "Actual result:\n"
     ]
    },
    {
     "name": "stdin",
     "output_type": "stream",
     "text": [
      " 1 2\n"
     ]
    },
    {
     "name": "stdout",
     "output_type": "stream",
     "text": [
      "\u001b[32m0 swaps were performed.\u001b[0m\n"
     ]
    }
   ],
   "source": [
    "test(3)"
   ]
  },
  {
   "cell_type": "code",
   "execution_count": 10,
   "id": "805f045e-d0c8-4c50-a63b-25aa12fefe39",
   "metadata": {},
   "outputs": [
    {
     "name": "stdout",
     "output_type": "stream",
     "text": [
      "\u001b[35mTest 4: Enter sorted unsigned one integer\u001b[0m\n",
      "Test data:\n",
      "\u001b[33m10\u001b[0m\n",
      "Expected result: \n",
      "[10]\n",
      "\u001b[32m0 swaps were performed.\u001b[0m\n",
      "Actual result:\n"
     ]
    },
    {
     "name": "stdin",
     "output_type": "stream",
     "text": [
      " 10\n"
     ]
    },
    {
     "name": "stdout",
     "output_type": "stream",
     "text": [
      "\u001b[32m0 swaps were performed.\u001b[0m\n"
     ]
    }
   ],
   "source": [
    "test(4)"
   ]
  },
  {
   "cell_type": "code",
   "execution_count": 11,
   "id": "a97fa54a-83cf-4426-905d-329676251ab2",
   "metadata": {},
   "outputs": [
    {
     "name": "stdout",
     "output_type": "stream",
     "text": [
      "\u001b[35mTest 5: Enter unsorted unsigned unique integers with leading zeroes\u001b[0m\n",
      "Test data:\n",
      "\u001b[33m02 09 04 0100 01\u001b[0m\n",
      "Expected result: \n",
      "[1, 2, 4, 9, 100]\n",
      "\u001b[32m5 swaps were performed.\u001b[0m\n",
      "Actual result:\n"
     ]
    },
    {
     "name": "stdin",
     "output_type": "stream",
     "text": [
      " 02 09 04 0100 01\n"
     ]
    },
    {
     "name": "stdout",
     "output_type": "stream",
     "text": [
      "\u001b[32m5 swaps were performed.\u001b[0m\n"
     ]
    }
   ],
   "source": [
    "test(5)"
   ]
  },
  {
   "cell_type": "code",
   "execution_count": 12,
   "id": "a10e9d07-ec82-448c-a7e2-3843321e3ce6",
   "metadata": {},
   "outputs": [
    {
     "name": "stdout",
     "output_type": "stream",
     "text": [
      "\u001b[35mTest 6: Enter unsorted unsigned unique floats\u001b[0m\n",
      "Test data:\n",
      "\u001b[33m9.9 0.1 3.0\u001b[0m\n",
      "Expected result: \n",
      "\u001b[31mValue error: Values must be space-separated integers. Try again!\u001b[0m\n",
      "Actual result:\n"
     ]
    },
    {
     "name": "stdin",
     "output_type": "stream",
     "text": [
      " 9.9 0.1 3.0\n"
     ]
    },
    {
     "name": "stdout",
     "output_type": "stream",
     "text": [
      "\u001b[31mValue error: Values must be space-separated integers. Try again!\u001b[0m\n"
     ]
    }
   ],
   "source": [
    "test(6)"
   ]
  },
  {
   "cell_type": "code",
   "execution_count": 13,
   "id": "939a4770-7835-4185-b518-638c5b7c1486",
   "metadata": {},
   "outputs": [
    {
     "name": "stdout",
     "output_type": "stream",
     "text": [
      "\u001b[35mTest 7: Enter empty string\u001b[0m\n",
      "Test data:\n",
      "\u001b[33m\u001b[0m\n",
      "Expected result: \n",
      "\u001b[31mValue error: Values must be space-separated integers. Try again!\u001b[0m\n",
      "Actual result:\n"
     ]
    },
    {
     "name": "stdin",
     "output_type": "stream",
     "text": [
      " \n"
     ]
    },
    {
     "name": "stdout",
     "output_type": "stream",
     "text": [
      "\u001b[31mValue error: Values must be space-separated integers. Try again!\u001b[0m\n"
     ]
    }
   ],
   "source": [
    "test(7)"
   ]
  },
  {
   "cell_type": "code",
   "execution_count": 14,
   "id": "d839544c-d3a0-4f31-b579-8674e31d7bfa",
   "metadata": {},
   "outputs": [
    {
     "name": "stdout",
     "output_type": "stream",
     "text": [
      "\u001b[35mTest 8: Enter alphabetic values\u001b[0m\n",
      "Test data:\n",
      "\u001b[33mAbCd 09\u001b[0m\n",
      "Expected result: \n",
      "\u001b[31mValue error: Values must be space-separated integers. Try again!\u001b[0m\n",
      "Actual result:\n"
     ]
    },
    {
     "name": "stdin",
     "output_type": "stream",
     "text": [
      " AbCd 09\n"
     ]
    },
    {
     "name": "stdout",
     "output_type": "stream",
     "text": [
      "\u001b[31mValue error: Values must be space-separated integers. Try again!\u001b[0m\n"
     ]
    }
   ],
   "source": [
    "test(8)"
   ]
  },
  {
   "cell_type": "code",
   "execution_count": 15,
   "id": "23390887-e321-4166-8a69-afd8289f0699",
   "metadata": {},
   "outputs": [
    {
     "name": "stdout",
     "output_type": "stream",
     "text": [
      "\u001b[35mTest 9: Enter special characters\u001b[0m\n",
      "Test data:\n",
      "\u001b[33m% 56 7 8 !@#$%^&*()_+\"\u001b[0m\n",
      "Expected result: \n",
      "\u001b[31mValue error: Values must be space-separated integers. Try again!\u001b[0m\n",
      "Actual result:\n"
     ]
    },
    {
     "name": "stdin",
     "output_type": "stream",
     "text": [
      " % 56 7 8 !@#$%^&*()_+\"\n"
     ]
    },
    {
     "name": "stdout",
     "output_type": "stream",
     "text": [
      "\u001b[31mValue error: Values must be space-separated integers. Try again!\u001b[0m\n"
     ]
    }
   ],
   "source": [
    "test(9)"
   ]
  }
 ],
 "metadata": {
  "kernelspec": {
   "display_name": "Python 3 (ipykernel)",
   "language": "python",
   "name": "python3"
  },
  "language_info": {
   "codemirror_mode": {
    "name": "ipython",
    "version": 3
   },
   "file_extension": ".py",
   "mimetype": "text/x-python",
   "name": "python",
   "nbconvert_exporter": "python",
   "pygments_lexer": "ipython3",
   "version": "3.11.4"
  }
 },
 "nbformat": 4,
 "nbformat_minor": 5
}
