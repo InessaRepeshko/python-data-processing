{
 "cells": [
  {
   "cell_type": "code",
   "execution_count": null,
   "id": "a3fe2652-8c0a-4c8a-8309-8392e3d60fde",
   "metadata": {},
   "outputs": [],
   "source": []
  }
 ],
 "metadata": {
  "kernelspec": {
   "display_name": "",
   "name": ""
  },
  "language_info": {
   "name": ""
  }
 },
 "nbformat": 4,
 "nbformat_minor": 5
}
